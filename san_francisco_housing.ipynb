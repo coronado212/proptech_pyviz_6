{
 "cells": [
  {
   "cell_type": "markdown",
   "metadata": {},
   "source": [
    "# Housing Rental Analysis for San Francisco\n",
    "\n",
    "In this challenge, your job is to use your data visualization superpowers, including aggregation, interactive visualizations, and geospatial analysis, to find properties in the San Francisco market that are viable investment opportunities.\n",
    "\n",
    "Instructions:\n",
    "\n",
    "Use the `san_francisco_housing.ipynb` notebook to visualize and analyze the real-estate data.\n",
    "\n",
    "Note that this assignment requires you to create a visualization by using the integration between Plotly and the Mapbox API. Be sure to create your environment file (`.env`) and include your Mapbox API access token. Then import your Mapbox API access token into the `san_francisco_housing.ipynb` notebook, and set it by using the `px.set_mapbox_access_token` function.\n",
    "\n",
    "Additionally, you need to read the `sfo_neighborhoods_census_data.csv` file from the `Resources` folder into the notebook and create the DataFrame that you’ll use in the analysis.\n",
    "\n",
    "The main task in this Challenge is to visualize and analyze the real-estate data in your Jupyter notebook. Use the `san_francisco_housing.ipynb` notebook to complete the following tasks:\n",
    "\n",
    "* Calculate and plot the housing units per year.\n",
    "\n",
    "* Calculate and plot the average prices per square foot.\n",
    "\n",
    "* Compare the average prices by neighborhood.\n",
    "\n",
    "* Build an interactive neighborhood map.\n",
    "\n",
    "* Compose your data story.\n",
    "\n",
    "##### Calculate and Plot the Housing Units per Year\n",
    "\n",
    "For this part of the assignment, use numerical and visual aggregation to calculate the number of housing units per year, and then visualize the results as a bar chart. To do so, complete the following steps:\n",
    "\n",
    "1. Use the `groupby` function to group the data by year. Aggregate the results by the `mean` of the groups.\n",
    "\n",
    "2. Use the `hvplot` function to plot the `housing_units_by_year` DataFrame as a bar chart. Make the x-axis represent the `year` and the y-axis represent the `housing_units`.\n",
    "\n",
    "3. Style and format the line plot to ensure a professionally styled visualization.\n",
    "\n",
    "4. Note that your resulting plot should appear similar to the following image:\n",
    "\n",
    "![A screenshot depicts an example of the resulting bar chart.](Images/zoomed-housing-units-by-year.png)\n",
    "\n",
    "5. Answer the following question:\n",
    "\n",
    "    * What’s the overall trend in housing units over the period that you’re analyzing?\n",
    "\n",
    "##### Calculate and Plot the Average Sale Prices per Square Foot\n",
    "\n",
    "For this part of the assignment, use numerical and visual aggregation to calculate the average prices per square foot, and then visualize the results as a bar chart. To do so, complete the following steps:\n",
    "\n",
    "1. Group the data by year, and then average the results. What’s the lowest gross rent that’s reported for the years that the DataFrame includes?\n",
    "\n",
    "2. Create a new DataFrame named `prices_square_foot_by_year` by filtering out the “housing_units” column. The new DataFrame should include the averages per year for only the sale price per square foot and the gross rent.\n",
    "\n",
    "3. Use hvPlot to plot the `prices_square_foot_by_year` DataFrame as a line plot.\n",
    "\n",
    "    > **Hint** This single plot will include lines for both `sale_price_sqr_foot` and `gross_rent`.\n",
    "\n",
    "4. Style and format the line plot to ensure a professionally styled visualization.\n",
    "\n",
    "5. Note that your resulting plot should appear similar to the following image:\n",
    "\n",
    "![A screenshot depicts an example of the resulting plot.](Images/avg-sale-px-sq-foot-gross-rent.png)\n",
    "\n",
    "6. Use both the `prices_square_foot_by_year` DataFrame and interactive plots to answer the following questions:\n",
    "\n",
    "    * Did any year experience a drop in the average sale price per square foot compared to the previous year?\n",
    "\n",
    "    * If so, did the gross rent increase or decrease during that year?\n",
    "\n",
    "##### Compare the Average Sale Prices by Neighborhood\n",
    "\n",
    "For this part of the assignment, use interactive visualizations and widgets to explore the average sale price per square foot by neighborhood. To do so, complete the following steps:\n",
    "\n",
    "1. Create a new DataFrame that groups the original DataFrame by year and neighborhood. Aggregate the results by the `mean` of the groups.\n",
    "\n",
    "2. Filter out the “housing_units” column to create a DataFrame that includes only the `sale_price_sqr_foot` and `gross_rent` averages per year.\n",
    "\n",
    "3. Create an interactive line plot with hvPlot that visualizes both `sale_price_sqr_foot` and `gross_rent`. Set the x-axis parameter to the year (`x=\"year\"`). Use the `groupby` parameter to create an interactive widget for `neighborhood`.\n",
    "\n",
    "4. Style and format the line plot to ensure a professionally styled visualization.\n",
    "\n",
    "5. Note that your resulting plot should appear similar to the following image:\n",
    "\n",
    "![A screenshot depicts an example of the resulting plot.](Images/pricing-info-by-neighborhood.png)\n",
    "\n",
    "6. Use the interactive visualization to answer the following question:\n",
    "\n",
    "    * For the Anza Vista neighborhood, is the average sale price per square foot for 2016 more or less than the price that’s listed for 2012? \n",
    "\n",
    "##### Build an Interactive Neighborhood Map\n",
    "\n",
    "For this part of the assignment, explore the geospatial relationships in the data by using interactive visualizations with Plotly and the Mapbox API. To build your map, use the `sfo_data_df` DataFrame (created during the initial import), which includes the neighborhood location data with the average prices. To do all this, complete the following steps:\n",
    "\n",
    "1. Read the `neighborhood_coordinates.csv` file from the `Resources` folder into the notebook, and create a DataFrame named `neighborhood_locations_df`. Be sure to set the `index_col` of the DataFrame as “Neighborhood”.\n",
    "\n",
    "2. Using the original `sfo_data_df` Dataframe, create a DataFrame named `all_neighborhood_info_df` that groups the data by neighborhood. Aggregate the results by the `mean` of the group.\n",
    "\n",
    "3. Review the two code cells that concatenate the `neighborhood_locations_df` DataFrame with the `all_neighborhood_info_df` DataFrame. Note that the first cell uses the [Pandas concat function](https://pandas.pydata.org/pandas-docs/stable/reference/api/pandas.concat.html) to create a DataFrame named `all_neighborhoods_df`. The second cell cleans the data and sets the “Neighborhood” column. Be sure to run these cells to create the `all_neighborhoods_df` DataFrame, which you’ll need to create the geospatial visualization.\n",
    "\n",
    "4. Using Plotly Express, create a `scatter_mapbox` for the `all_neighborhoods_df` DataFrame. Remember that you need your MapBox API key. Be sure to do the following:\n",
    "\n",
    "    * Set the `size` parameter to “sale_price_sqr_foot”.\n",
    "\n",
    "    * Set the `color` parameter to “gross_rent”.\n",
    "\n",
    "    * Set the `size_max` parameter to “25”.\n",
    "\n",
    "    * Set the `zoom` parameter to “11”.\n",
    "\n",
    "5. Style and format the line plot to ensure a professionally styled visualization.\n",
    "\n",
    "6. Note that your resulting plot should appear similar to the following image:\n",
    "\n",
    "![A screenshot depicts an example of a scatter plot created with the Mapbox API.](Images/mapbox-plot.png)\n",
    "\n",
    "7. Use the interactive map to answer the following question:\n",
    "\n",
    "    * Which neighborhood has the highest gross rent, and which has the highest sale price per square foot?\n",
    "\n",
    "##### Compose Your Data Story\n",
    "\n",
    "Based on the visualizations that you created, answer the following questions:\n",
    "\n",
    "* How does the trend in rental income growth compare to the trend in sales prices? Does this same trend hold true for all the neighborhoods across San Francisco?\n",
    "\n",
    "* What insights can you share with your company about the potential one-click, buy-and-rent strategy that they're pursuing? Do neighborhoods exist that you would suggest for investment, and why?"
   ]
  },
  {
   "cell_type": "code",
   "execution_count": 15,
   "metadata": {},
   "outputs": [],
   "source": [
    "# Import the required libraries and dependencies\n",
    "import os\n",
    "import pandas as pd\n",
    "import plotly.express as px\n",
    "import hvplot.pandas\n",
    "from pathlib import Path\n",
    "from dotenv import load_dotenv"
   ]
  },
  {
   "cell_type": "markdown",
   "metadata": {},
   "source": [
    "## Enable your Mapbox API access token"
   ]
  },
  {
   "cell_type": "code",
   "execution_count": 16,
   "metadata": {},
   "outputs": [],
   "source": [
    "# Load the .env file into the notebook\n",
    "load_dotenv()\n",
    "\n",
    "# Read in your MAPBOX_API_KEY\n",
    "mapbox_api_access_token = os.getenv(\"MAPBOX_API_KEY\")\n",
    "\n",
    "# Confirm the availability of your Mapbox API access token by checking its type\n",
    "if not mapbox_api_access_token:\n",
    "    print(\"Error with the Mapbox API access token. Check the .env file.\")\n",
    "\n",
    "# Set your Mapbox API access token\n",
    "px.set_mapbox_access_token(mapbox_api_access_token)"
   ]
  },
  {
   "cell_type": "markdown",
   "metadata": {},
   "source": [
    "## Import the data "
   ]
  },
  {
   "cell_type": "code",
   "execution_count": 17,
   "metadata": {},
   "outputs": [
    {
     "data": {
      "text/html": [
       "<div>\n",
       "<style scoped>\n",
       "    .dataframe tbody tr th:only-of-type {\n",
       "        vertical-align: middle;\n",
       "    }\n",
       "\n",
       "    .dataframe tbody tr th {\n",
       "        vertical-align: top;\n",
       "    }\n",
       "\n",
       "    .dataframe thead th {\n",
       "        text-align: right;\n",
       "    }\n",
       "</style>\n",
       "<table border=\"1\" class=\"dataframe\">\n",
       "  <thead>\n",
       "    <tr style=\"text-align: right;\">\n",
       "      <th></th>\n",
       "      <th>year</th>\n",
       "      <th>neighborhood</th>\n",
       "      <th>sale_price_sqr_foot</th>\n",
       "      <th>housing_units</th>\n",
       "      <th>gross_rent</th>\n",
       "    </tr>\n",
       "  </thead>\n",
       "  <tbody>\n",
       "    <tr>\n",
       "      <th>0</th>\n",
       "      <td>2010</td>\n",
       "      <td>Alamo Square</td>\n",
       "      <td>291.182945</td>\n",
       "      <td>372560</td>\n",
       "      <td>1239</td>\n",
       "    </tr>\n",
       "    <tr>\n",
       "      <th>1</th>\n",
       "      <td>2010</td>\n",
       "      <td>Anza Vista</td>\n",
       "      <td>267.932583</td>\n",
       "      <td>372560</td>\n",
       "      <td>1239</td>\n",
       "    </tr>\n",
       "    <tr>\n",
       "      <th>2</th>\n",
       "      <td>2010</td>\n",
       "      <td>Bayview</td>\n",
       "      <td>170.098665</td>\n",
       "      <td>372560</td>\n",
       "      <td>1239</td>\n",
       "    </tr>\n",
       "    <tr>\n",
       "      <th>3</th>\n",
       "      <td>2010</td>\n",
       "      <td>Buena Vista Park</td>\n",
       "      <td>347.394919</td>\n",
       "      <td>372560</td>\n",
       "      <td>1239</td>\n",
       "    </tr>\n",
       "    <tr>\n",
       "      <th>4</th>\n",
       "      <td>2010</td>\n",
       "      <td>Central Richmond</td>\n",
       "      <td>319.027623</td>\n",
       "      <td>372560</td>\n",
       "      <td>1239</td>\n",
       "    </tr>\n",
       "  </tbody>\n",
       "</table>\n",
       "</div>"
      ],
      "text/plain": [
       "   year      neighborhood  sale_price_sqr_foot  housing_units  gross_rent\n",
       "0  2010      Alamo Square           291.182945         372560        1239\n",
       "1  2010        Anza Vista           267.932583         372560        1239\n",
       "2  2010           Bayview           170.098665         372560        1239\n",
       "3  2010  Buena Vista Park           347.394919         372560        1239\n",
       "4  2010  Central Richmond           319.027623         372560        1239"
      ]
     },
     "metadata": {},
     "output_type": "display_data"
    },
    {
     "data": {
      "text/html": [
       "<div>\n",
       "<style scoped>\n",
       "    .dataframe tbody tr th:only-of-type {\n",
       "        vertical-align: middle;\n",
       "    }\n",
       "\n",
       "    .dataframe tbody tr th {\n",
       "        vertical-align: top;\n",
       "    }\n",
       "\n",
       "    .dataframe thead th {\n",
       "        text-align: right;\n",
       "    }\n",
       "</style>\n",
       "<table border=\"1\" class=\"dataframe\">\n",
       "  <thead>\n",
       "    <tr style=\"text-align: right;\">\n",
       "      <th></th>\n",
       "      <th>year</th>\n",
       "      <th>neighborhood</th>\n",
       "      <th>sale_price_sqr_foot</th>\n",
       "      <th>housing_units</th>\n",
       "      <th>gross_rent</th>\n",
       "    </tr>\n",
       "  </thead>\n",
       "  <tbody>\n",
       "    <tr>\n",
       "      <th>392</th>\n",
       "      <td>2016</td>\n",
       "      <td>Telegraph Hill</td>\n",
       "      <td>903.049771</td>\n",
       "      <td>384242</td>\n",
       "      <td>4390</td>\n",
       "    </tr>\n",
       "    <tr>\n",
       "      <th>393</th>\n",
       "      <td>2016</td>\n",
       "      <td>Twin Peaks</td>\n",
       "      <td>970.085470</td>\n",
       "      <td>384242</td>\n",
       "      <td>4390</td>\n",
       "    </tr>\n",
       "    <tr>\n",
       "      <th>394</th>\n",
       "      <td>2016</td>\n",
       "      <td>Van Ness/ Civic Center</td>\n",
       "      <td>552.602567</td>\n",
       "      <td>384242</td>\n",
       "      <td>4390</td>\n",
       "    </tr>\n",
       "    <tr>\n",
       "      <th>395</th>\n",
       "      <td>2016</td>\n",
       "      <td>Visitacion Valley</td>\n",
       "      <td>328.319007</td>\n",
       "      <td>384242</td>\n",
       "      <td>4390</td>\n",
       "    </tr>\n",
       "    <tr>\n",
       "      <th>396</th>\n",
       "      <td>2016</td>\n",
       "      <td>Westwood Park</td>\n",
       "      <td>631.195426</td>\n",
       "      <td>384242</td>\n",
       "      <td>4390</td>\n",
       "    </tr>\n",
       "  </tbody>\n",
       "</table>\n",
       "</div>"
      ],
      "text/plain": [
       "     year            neighborhood  sale_price_sqr_foot  housing_units  \\\n",
       "392  2016          Telegraph Hill           903.049771         384242   \n",
       "393  2016              Twin Peaks           970.085470         384242   \n",
       "394  2016  Van Ness/ Civic Center           552.602567         384242   \n",
       "395  2016       Visitacion Valley           328.319007         384242   \n",
       "396  2016           Westwood Park           631.195426         384242   \n",
       "\n",
       "     gross_rent  \n",
       "392        4390  \n",
       "393        4390  \n",
       "394        4390  \n",
       "395        4390  \n",
       "396        4390  "
      ]
     },
     "metadata": {},
     "output_type": "display_data"
    }
   ],
   "source": [
    "# Using the read_csv function and Path module, create a DataFrame \n",
    "# by importing the sfo_neighborhoods_census_data.csv file from the Resources folder\n",
    "sfo_data_df = pd.read_csv(\n",
    "    Path(\"Resources/sfo_neighborhoods_census_data.csv\")\n",
    ").drop_duplicates()\n",
    "\n",
    "# Review the first and last five rows of the DataFrame\n",
    "display(sfo_data_df.head())\n",
    "display(sfo_data_df.tail())"
   ]
  },
  {
   "cell_type": "markdown",
   "metadata": {},
   "source": [
    "---"
   ]
  },
  {
   "cell_type": "markdown",
   "metadata": {},
   "source": [
    "## Calculate and Plot the Housing Units per Year\n",
    "\n",
    "For this part of the assignment, use numerical and visual aggregation to calculate the number of housing units per year, and then visualize the results as a bar chart. To do so, complete the following steps:\n",
    "\n",
    "1. Use the `groupby` function to group the data by year. Aggregate the results by the `mean` of the groups.\n",
    "\n",
    "2. Use the `hvplot` function to plot the `housing_units_by_year` DataFrame as a bar chart. Make the x-axis represent the `year` and the y-axis represent the `housing_units`.\n",
    "\n",
    "3. Style and format the line plot to ensure a professionally styled visualization.\n",
    "\n",
    "4. Note that your resulting plot should appear similar to the following image:\n",
    "\n",
    "![A screenshot depicts an example of the resulting bar chart.](Images/zoomed-housing-units-by-year.png)\n",
    "\n",
    "5. Answer the following question:\n",
    "\n",
    "    * What’s the overall trend in housing units over the period that you’re analyzing?\n",
    "\n"
   ]
  },
  {
   "cell_type": "markdown",
   "metadata": {},
   "source": [
    "### Step 1: Use the `groupby` function to group the data by year. Aggregate the results by the `mean` of the groups."
   ]
  },
  {
   "cell_type": "code",
   "execution_count": 14,
   "metadata": {},
   "outputs": [
    {
     "data": {
      "text/html": [
       "<div>\n",
       "<style scoped>\n",
       "    .dataframe tbody tr th:only-of-type {\n",
       "        vertical-align: middle;\n",
       "    }\n",
       "\n",
       "    .dataframe tbody tr th {\n",
       "        vertical-align: top;\n",
       "    }\n",
       "\n",
       "    .dataframe thead th {\n",
       "        text-align: right;\n",
       "    }\n",
       "</style>\n",
       "<table border=\"1\" class=\"dataframe\">\n",
       "  <thead>\n",
       "    <tr style=\"text-align: right;\">\n",
       "      <th></th>\n",
       "      <th>sale_price_sqr_foot</th>\n",
       "      <th>housing_units</th>\n",
       "      <th>gross_rent</th>\n",
       "    </tr>\n",
       "    <tr>\n",
       "      <th>year</th>\n",
       "      <th></th>\n",
       "      <th></th>\n",
       "      <th></th>\n",
       "    </tr>\n",
       "  </thead>\n",
       "  <tbody>\n",
       "    <tr>\n",
       "      <th>2010</th>\n",
       "      <td>369.344353</td>\n",
       "      <td>372560</td>\n",
       "      <td>1239</td>\n",
       "    </tr>\n",
       "    <tr>\n",
       "      <th>2011</th>\n",
       "      <td>341.903429</td>\n",
       "      <td>374507</td>\n",
       "      <td>1530</td>\n",
       "    </tr>\n",
       "    <tr>\n",
       "      <th>2012</th>\n",
       "      <td>399.389968</td>\n",
       "      <td>376454</td>\n",
       "      <td>2324</td>\n",
       "    </tr>\n",
       "    <tr>\n",
       "      <th>2013</th>\n",
       "      <td>483.600304</td>\n",
       "      <td>378401</td>\n",
       "      <td>2971</td>\n",
       "    </tr>\n",
       "    <tr>\n",
       "      <th>2014</th>\n",
       "      <td>556.277273</td>\n",
       "      <td>380348</td>\n",
       "      <td>3528</td>\n",
       "    </tr>\n",
       "    <tr>\n",
       "      <th>2015</th>\n",
       "      <td>632.540352</td>\n",
       "      <td>382295</td>\n",
       "      <td>3739</td>\n",
       "    </tr>\n",
       "    <tr>\n",
       "      <th>2016</th>\n",
       "      <td>697.643709</td>\n",
       "      <td>384242</td>\n",
       "      <td>4390</td>\n",
       "    </tr>\n",
       "  </tbody>\n",
       "</table>\n",
       "</div>"
      ],
      "text/plain": [
       "      sale_price_sqr_foot  housing_units  gross_rent\n",
       "year                                                \n",
       "2010           369.344353         372560        1239\n",
       "2011           341.903429         374507        1530\n",
       "2012           399.389968         376454        2324\n",
       "2013           483.600304         378401        2971\n",
       "2014           556.277273         380348        3528\n",
       "2015           632.540352         382295        3739\n",
       "2016           697.643709         384242        4390"
      ]
     },
     "execution_count": 14,
     "metadata": {},
     "output_type": "execute_result"
    }
   ],
   "source": [
    "# Create a numerical aggregation that groups the data by the year and then averages the results.\n",
    "housing_units_by_year = sfo_data_df.groupby('year').mean()\n",
    "\n",
    "# Review the DataFrame\n",
    "housing_units_by_year"
   ]
  },
  {
   "cell_type": "markdown",
   "metadata": {},
   "source": [
    "### Step 2: Use the `hvplot` function to plot the `housing_units_by_year` DataFrame as a bar chart. Make the x-axis represent the `year` and the y-axis represent the `housing_units`.\n",
    "\n",
    "### Step 3: Style and format the line plot to ensure a professionally styled visualization."
   ]
  },
  {
   "cell_type": "code",
   "execution_count": 5,
   "metadata": {},
   "outputs": [
    {
     "data": {
      "text/html": [
       "<div>\n",
       "<style scoped>\n",
       "    .dataframe tbody tr th:only-of-type {\n",
       "        vertical-align: middle;\n",
       "    }\n",
       "\n",
       "    .dataframe tbody tr th {\n",
       "        vertical-align: top;\n",
       "    }\n",
       "\n",
       "    .dataframe thead th {\n",
       "        text-align: right;\n",
       "    }\n",
       "</style>\n",
       "<table border=\"1\" class=\"dataframe\">\n",
       "  <thead>\n",
       "    <tr style=\"text-align: right;\">\n",
       "      <th></th>\n",
       "      <th>sale_price_sqr_foot</th>\n",
       "      <th>housing_units</th>\n",
       "      <th>gross_rent</th>\n",
       "    </tr>\n",
       "  </thead>\n",
       "  <tbody>\n",
       "    <tr>\n",
       "      <th>count</th>\n",
       "      <td>7.000000</td>\n",
       "      <td>7.000000</td>\n",
       "      <td>7.000000</td>\n",
       "    </tr>\n",
       "    <tr>\n",
       "      <th>mean</th>\n",
       "      <td>497.242770</td>\n",
       "      <td>378401.000000</td>\n",
       "      <td>2817.285714</td>\n",
       "    </tr>\n",
       "    <tr>\n",
       "      <th>std</th>\n",
       "      <td>136.748338</td>\n",
       "      <td>4206.000713</td>\n",
       "      <td>1172.117132</td>\n",
       "    </tr>\n",
       "    <tr>\n",
       "      <th>min</th>\n",
       "      <td>341.903429</td>\n",
       "      <td>372560.000000</td>\n",
       "      <td>1239.000000</td>\n",
       "    </tr>\n",
       "    <tr>\n",
       "      <th>25%</th>\n",
       "      <td>384.367161</td>\n",
       "      <td>375480.500000</td>\n",
       "      <td>1927.000000</td>\n",
       "    </tr>\n",
       "    <tr>\n",
       "      <th>50%</th>\n",
       "      <td>483.600304</td>\n",
       "      <td>378401.000000</td>\n",
       "      <td>2971.000000</td>\n",
       "    </tr>\n",
       "    <tr>\n",
       "      <th>75%</th>\n",
       "      <td>594.408813</td>\n",
       "      <td>381321.500000</td>\n",
       "      <td>3633.500000</td>\n",
       "    </tr>\n",
       "    <tr>\n",
       "      <th>max</th>\n",
       "      <td>697.643709</td>\n",
       "      <td>384242.000000</td>\n",
       "      <td>4390.000000</td>\n",
       "    </tr>\n",
       "  </tbody>\n",
       "</table>\n",
       "</div>"
      ],
      "text/plain": [
       "       sale_price_sqr_foot  housing_units   gross_rent\n",
       "count             7.000000       7.000000     7.000000\n",
       "mean            497.242770  378401.000000  2817.285714\n",
       "std             136.748338    4206.000713  1172.117132\n",
       "min             341.903429  372560.000000  1239.000000\n",
       "25%             384.367161  375480.500000  1927.000000\n",
       "50%             483.600304  378401.000000  2971.000000\n",
       "75%             594.408813  381321.500000  3633.500000\n",
       "max             697.643709  384242.000000  4390.000000"
      ]
     },
     "execution_count": 5,
     "metadata": {},
     "output_type": "execute_result"
    }
   ],
   "source": [
    "housing_units_by_year.describe()"
   ]
  },
  {
   "cell_type": "code",
   "execution_count": 18,
   "metadata": {},
   "outputs": [
    {
     "data": {},
     "metadata": {},
     "output_type": "display_data"
    },
    {
     "data": {
      "application/vnd.holoviews_exec.v0+json": "",
      "text/html": [
       "<div id='1101'>\n",
       "\n",
       "\n",
       "\n",
       "\n",
       "\n",
       "  <div class=\"bk-root\" id=\"9d6ce644-8cd9-4c27-bdce-29ed2b6bc88f\" data-root-id=\"1101\"></div>\n",
       "</div>\n",
       "<script type=\"application/javascript\">(function(root) {\n",
       "  function embed_document(root) {\n",
       "    var docs_json = {\"db1c7c33-d3dd-4257-bcdf-b503e8eaf166\":{\"roots\":{\"references\":[{\"attributes\":{\"below\":[{\"id\":\"1115\"}],\"center\":[{\"id\":\"1117\"},{\"id\":\"1121\"}],\"left\":[{\"id\":\"1118\"}],\"margin\":[5,5,5,5],\"min_border_bottom\":10,\"min_border_left\":10,\"min_border_right\":10,\"min_border_top\":10,\"plot_height\":300,\"plot_width\":700,\"renderers\":[{\"id\":\"1141\"}],\"sizing_mode\":\"fixed\",\"title\":{\"id\":\"1107\"},\"toolbar\":{\"id\":\"1128\"},\"x_range\":{\"id\":\"1103\"},\"x_scale\":{\"id\":\"1111\"},\"y_range\":{\"id\":\"1104\"},\"y_scale\":{\"id\":\"1113\"}},\"id\":\"1106\",\"subtype\":\"Figure\",\"type\":\"Plot\"},{\"attributes\":{\"margin\":[5,5,5,5],\"name\":\"HSpacer01692\",\"sizing_mode\":\"stretch_width\"},\"id\":\"1164\",\"type\":\"Spacer\"},{\"attributes\":{},\"id\":\"1111\",\"type\":\"CategoricalScale\"},{\"attributes\":{},\"id\":\"1126\",\"type\":\"ResetTool\"},{\"attributes\":{},\"id\":\"1155\",\"type\":\"UnionRenderers\"},{\"attributes\":{\"end\":385000,\"reset_end\":385000,\"reset_start\":365000,\"start\":365000,\"tags\":[[[\"housing_units\",\"housing_units\",null]]]},\"id\":\"1104\",\"type\":\"Range1d\"},{\"attributes\":{\"factors\":[\"2010\",\"2011\",\"2012\",\"2013\",\"2014\",\"2015\",\"2016\"],\"tags\":[[[\"year\",\"year\",null]]]},\"id\":\"1103\",\"type\":\"FactorRange\"},{\"attributes\":{\"text\":\"Housing Units in San Francisco from 2010 to 2016\",\"text_color\":{\"value\":\"black\"},\"text_font_size\":{\"value\":\"12pt\"}},\"id\":\"1107\",\"type\":\"Title\"},{\"attributes\":{\"axis\":{\"id\":\"1118\"},\"dimension\":1,\"grid_line_color\":null,\"ticker\":null},\"id\":\"1121\",\"type\":\"Grid\"},{\"attributes\":{},\"id\":\"1116\",\"type\":\"CategoricalTicker\"},{\"attributes\":{\"axis\":{\"id\":\"1115\"},\"grid_line_color\":null,\"ticker\":null},\"id\":\"1117\",\"type\":\"Grid\"},{\"attributes\":{},\"id\":\"1119\",\"type\":\"BasicTicker\"},{\"attributes\":{\"axis_label\":\"Housing Units\",\"bounds\":\"auto\",\"formatter\":{\"id\":\"1143\"},\"major_label_orientation\":\"horizontal\",\"ticker\":{\"id\":\"1119\"}},\"id\":\"1118\",\"type\":\"LinearAxis\"},{\"attributes\":{\"data_source\":{\"id\":\"1135\"},\"glyph\":{\"id\":\"1138\"},\"hover_glyph\":null,\"muted_glyph\":{\"id\":\"1140\"},\"nonselection_glyph\":{\"id\":\"1139\"},\"selection_glyph\":null,\"view\":{\"id\":\"1142\"}},\"id\":\"1141\",\"type\":\"GlyphRenderer\"},{\"attributes\":{\"callback\":null,\"renderers\":[{\"id\":\"1141\"}],\"tags\":[\"hv_created\"],\"tooltips\":[[\"year\",\"@{year}\"],[\"housing_units\",\"@{housing_units}\"]]},\"id\":\"1105\",\"type\":\"HoverTool\"},{\"attributes\":{\"fill_alpha\":{\"value\":0.1},\"fill_color\":{\"value\":\"#1f77b3\"},\"line_alpha\":{\"value\":0.1},\"top\":{\"field\":\"housing_units\"},\"width\":{\"value\":0.8},\"x\":{\"field\":\"year\"}},\"id\":\"1139\",\"type\":\"VBar\"},{\"attributes\":{\"bottom_units\":\"screen\",\"fill_alpha\":0.5,\"fill_color\":\"lightgrey\",\"left_units\":\"screen\",\"level\":\"overlay\",\"line_alpha\":1.0,\"line_color\":\"black\",\"line_dash\":[4,4],\"line_width\":2,\"right_units\":\"screen\",\"top_units\":\"screen\"},\"id\":\"1127\",\"type\":\"BoxAnnotation\"},{\"attributes\":{},\"id\":\"1136\",\"type\":\"Selection\"},{\"attributes\":{\"active_drag\":\"auto\",\"active_inspect\":\"auto\",\"active_multi\":null,\"active_scroll\":\"auto\",\"active_tap\":\"auto\",\"tools\":[{\"id\":\"1105\"},{\"id\":\"1122\"},{\"id\":\"1123\"},{\"id\":\"1124\"},{\"id\":\"1125\"},{\"id\":\"1126\"}]},\"id\":\"1128\",\"type\":\"Toolbar\"},{\"attributes\":{\"fill_color\":{\"value\":\"#1f77b3\"},\"top\":{\"field\":\"housing_units\"},\"width\":{\"value\":0.8},\"x\":{\"field\":\"year\"}},\"id\":\"1138\",\"type\":\"VBar\"},{\"attributes\":{\"format\":\"%.0f\"},\"id\":\"1143\",\"type\":\"PrintfTickFormatter\"},{\"attributes\":{},\"id\":\"1122\",\"type\":\"SaveTool\"},{\"attributes\":{\"margin\":[5,5,5,5],\"name\":\"HSpacer01691\",\"sizing_mode\":\"stretch_width\"},\"id\":\"1102\",\"type\":\"Spacer\"},{\"attributes\":{\"children\":[{\"id\":\"1102\"},{\"id\":\"1106\"},{\"id\":\"1164\"}],\"margin\":[0,0,0,0],\"name\":\"Row01687\",\"tags\":[\"embedded\"]},\"id\":\"1101\",\"type\":\"Row\"},{\"attributes\":{},\"id\":\"1144\",\"type\":\"CategoricalTickFormatter\"},{\"attributes\":{\"source\":{\"id\":\"1135\"}},\"id\":\"1142\",\"type\":\"CDSView\"},{\"attributes\":{},\"id\":\"1123\",\"type\":\"PanTool\"},{\"attributes\":{\"fill_alpha\":{\"value\":0.2},\"fill_color\":{\"value\":\"#1f77b3\"},\"line_alpha\":{\"value\":0.2},\"top\":{\"field\":\"housing_units\"},\"width\":{\"value\":0.8},\"x\":{\"field\":\"year\"}},\"id\":\"1140\",\"type\":\"VBar\"},{\"attributes\":{\"data\":{\"housing_units\":[372560,374507,376454,378401,380348,382295,384242],\"year\":[\"2010\",\"2011\",\"2012\",\"2013\",\"2014\",\"2015\",\"2016\"]},\"selected\":{\"id\":\"1136\"},\"selection_policy\":{\"id\":\"1155\"}},\"id\":\"1135\",\"type\":\"ColumnDataSource\"},{\"attributes\":{},\"id\":\"1113\",\"type\":\"LinearScale\"},{\"attributes\":{},\"id\":\"1124\",\"type\":\"WheelZoomTool\"},{\"attributes\":{\"axis_label\":\"Year\",\"bounds\":\"auto\",\"formatter\":{\"id\":\"1144\"},\"major_label_orientation\":\"horizontal\",\"ticker\":{\"id\":\"1116\"}},\"id\":\"1115\",\"type\":\"CategoricalAxis\"},{\"attributes\":{\"overlay\":{\"id\":\"1127\"}},\"id\":\"1125\",\"type\":\"BoxZoomTool\"}],\"root_ids\":[\"1101\"]},\"title\":\"Bokeh Application\",\"version\":\"2.2.3\"}};\n",
       "    var render_items = [{\"docid\":\"db1c7c33-d3dd-4257-bcdf-b503e8eaf166\",\"root_ids\":[\"1101\"],\"roots\":{\"1101\":\"9d6ce644-8cd9-4c27-bdce-29ed2b6bc88f\"}}];\n",
       "    root.Bokeh.embed.embed_items_notebook(docs_json, render_items);\n",
       "  }\n",
       "  if (root.Bokeh !== undefined && root.Bokeh.Panel !== undefined) {\n",
       "    embed_document(root);\n",
       "  } else {\n",
       "    var attempts = 0;\n",
       "    var timer = setInterval(function(root) {\n",
       "      if (root.Bokeh !== undefined && root.Bokeh.Panel !== undefined) {\n",
       "        clearInterval(timer);\n",
       "        embed_document(root);\n",
       "      } else if (document.readyState == \"complete\") {\n",
       "        attempts++;\n",
       "        if (attempts > 100) {\n",
       "          clearInterval(timer);\n",
       "          console.log(\"Bokeh: ERROR: Unable to run BokehJS code because BokehJS library is missing\");\n",
       "        }\n",
       "      }\n",
       "    }, 10, root)\n",
       "  }\n",
       "})(window);</script>"
      ],
      "text/plain": [
       ":Bars   [year]   (housing_units)"
      ]
     },
     "execution_count": 18,
     "metadata": {
      "application/vnd.holoviews_exec.v0+json": {
       "id": "1101"
      }
     },
     "output_type": "execute_result"
    }
   ],
   "source": [
    "# Create a visual aggregation explore the housing units by year\n",
    "housing_units_by_year.hvplot.bar(\n",
    "    title = \"Housing Units in San Francisco from 2010 to 2016\",\n",
    "    x = \"year\", \n",
    "    y = \"housing_units\", \n",
    "    xlabel = \"Year\", \n",
    "    ylabel = \"Housing Units\",\n",
    "    yformatter = '%.0f',\n",
    "    ylim = (365000, 385000)\n",
    ")"
   ]
  },
  {
   "cell_type": "markdown",
   "metadata": {},
   "source": [
    "### Step 5: Answer the following question:"
   ]
  },
  {
   "cell_type": "markdown",
   "metadata": {},
   "source": [
    "**Question** What is the overall trend in housing_units over the period being analyzed?\n",
    "\n",
    "**Answer** The housing units in San Francisco have increased as the years go by. "
   ]
  },
  {
   "cell_type": "markdown",
   "metadata": {},
   "source": [
    "---"
   ]
  },
  {
   "cell_type": "markdown",
   "metadata": {},
   "source": [
    "## Calculate and Plot the Average Sale Prices per Square Foot\n",
    "\n",
    "For this part of the assignment, use numerical and visual aggregation to calculate the average prices per square foot, and then visualize the results as a bar chart. To do so, complete the following steps:\n",
    "\n",
    "1. Group the data by year, and then average the results. What’s the lowest gross rent that’s reported for the years that the DataFrame includes?\n",
    "\n",
    "2. Create a new DataFrame named `prices_square_foot_by_year` by filtering out the “housing_units” column. The new DataFrame should include the averages per year for only the sale price per square foot and the gross rent.\n",
    "\n",
    "3. Use hvPlot to plot the `prices_square_foot_by_year` DataFrame as a line plot.\n",
    "\n",
    "    > **Hint** This single plot will include lines for both `sale_price_sqr_foot` and `gross_rent`.\n",
    "\n",
    "4. Style and format the line plot to ensure a professionally styled visualization.\n",
    "\n",
    "5. Note that your resulting plot should appear similar to the following image:\n",
    "\n",
    "![A screenshot depicts an example of the resulting plot.](Images/avg-sale-px-sq-foot-gross-rent.png)\n",
    "\n",
    "6. Use both the `prices_square_foot_by_year` DataFrame and interactive plots to answer the following questions:\n",
    "\n",
    "    * Did any year experience a drop in the average sale price per square foot compared to the previous year?\n",
    "\n",
    "    * If so, did the gross rent increase or decrease during that year?\n",
    "\n"
   ]
  },
  {
   "cell_type": "markdown",
   "metadata": {},
   "source": [
    "### Step 1: Group the data by year, and then average the results."
   ]
  },
  {
   "cell_type": "code",
   "execution_count": 19,
   "metadata": {},
   "outputs": [
    {
     "data": {
      "text/html": [
       "<div>\n",
       "<style scoped>\n",
       "    .dataframe tbody tr th:only-of-type {\n",
       "        vertical-align: middle;\n",
       "    }\n",
       "\n",
       "    .dataframe tbody tr th {\n",
       "        vertical-align: top;\n",
       "    }\n",
       "\n",
       "    .dataframe thead th {\n",
       "        text-align: right;\n",
       "    }\n",
       "</style>\n",
       "<table border=\"1\" class=\"dataframe\">\n",
       "  <thead>\n",
       "    <tr style=\"text-align: right;\">\n",
       "      <th></th>\n",
       "      <th>sale_price_sqr_foot</th>\n",
       "      <th>housing_units</th>\n",
       "      <th>gross_rent</th>\n",
       "    </tr>\n",
       "    <tr>\n",
       "      <th>year</th>\n",
       "      <th></th>\n",
       "      <th></th>\n",
       "      <th></th>\n",
       "    </tr>\n",
       "  </thead>\n",
       "  <tbody>\n",
       "    <tr>\n",
       "      <th>2010</th>\n",
       "      <td>369.344353</td>\n",
       "      <td>372560</td>\n",
       "      <td>1239</td>\n",
       "    </tr>\n",
       "    <tr>\n",
       "      <th>2011</th>\n",
       "      <td>341.903429</td>\n",
       "      <td>374507</td>\n",
       "      <td>1530</td>\n",
       "    </tr>\n",
       "    <tr>\n",
       "      <th>2012</th>\n",
       "      <td>399.389968</td>\n",
       "      <td>376454</td>\n",
       "      <td>2324</td>\n",
       "    </tr>\n",
       "    <tr>\n",
       "      <th>2013</th>\n",
       "      <td>483.600304</td>\n",
       "      <td>378401</td>\n",
       "      <td>2971</td>\n",
       "    </tr>\n",
       "    <tr>\n",
       "      <th>2014</th>\n",
       "      <td>556.277273</td>\n",
       "      <td>380348</td>\n",
       "      <td>3528</td>\n",
       "    </tr>\n",
       "    <tr>\n",
       "      <th>2015</th>\n",
       "      <td>632.540352</td>\n",
       "      <td>382295</td>\n",
       "      <td>3739</td>\n",
       "    </tr>\n",
       "    <tr>\n",
       "      <th>2016</th>\n",
       "      <td>697.643709</td>\n",
       "      <td>384242</td>\n",
       "      <td>4390</td>\n",
       "    </tr>\n",
       "  </tbody>\n",
       "</table>\n",
       "</div>"
      ],
      "text/plain": [
       "      sale_price_sqr_foot  housing_units  gross_rent\n",
       "year                                                \n",
       "2010           369.344353         372560        1239\n",
       "2011           341.903429         374507        1530\n",
       "2012           399.389968         376454        2324\n",
       "2013           483.600304         378401        2971\n",
       "2014           556.277273         380348        3528\n",
       "2015           632.540352         382295        3739\n",
       "2016           697.643709         384242        4390"
      ]
     },
     "execution_count": 19,
     "metadata": {},
     "output_type": "execute_result"
    }
   ],
   "source": [
    "# Create a numerical aggregation by grouping the data by year and averaging the results\n",
    "prices_square_foot_by_year = housing_units_by_year.groupby('year').mean()\n",
    "\n",
    "# Review the resulting DataFrame\n",
    "prices_square_foot_by_year"
   ]
  },
  {
   "cell_type": "markdown",
   "metadata": {},
   "source": [
    "**Question** What is the lowest gross rent reported for the years included in the DataFrame?\n",
    "\n",
    "**Answer** The lowest gross rent was in 2010. As the years pass, the gross rent increases. "
   ]
  },
  {
   "cell_type": "markdown",
   "metadata": {},
   "source": [
    "### Step 2: Create a new DataFrame named `prices_square_foot_by_year` by filtering out the “housing_units” column. The new DataFrame should include the averages per year for only the sale price per square foot and the gross rent."
   ]
  },
  {
   "cell_type": "code",
   "execution_count": 20,
   "metadata": {},
   "outputs": [
    {
     "data": {
      "text/html": [
       "<div>\n",
       "<style scoped>\n",
       "    .dataframe tbody tr th:only-of-type {\n",
       "        vertical-align: middle;\n",
       "    }\n",
       "\n",
       "    .dataframe tbody tr th {\n",
       "        vertical-align: top;\n",
       "    }\n",
       "\n",
       "    .dataframe thead th {\n",
       "        text-align: right;\n",
       "    }\n",
       "</style>\n",
       "<table border=\"1\" class=\"dataframe\">\n",
       "  <thead>\n",
       "    <tr style=\"text-align: right;\">\n",
       "      <th></th>\n",
       "      <th>sale_price_sqr_foot</th>\n",
       "      <th>gross_rent</th>\n",
       "    </tr>\n",
       "    <tr>\n",
       "      <th>year</th>\n",
       "      <th></th>\n",
       "      <th></th>\n",
       "    </tr>\n",
       "  </thead>\n",
       "  <tbody>\n",
       "    <tr>\n",
       "      <th>2010</th>\n",
       "      <td>369.344353</td>\n",
       "      <td>1239</td>\n",
       "    </tr>\n",
       "    <tr>\n",
       "      <th>2011</th>\n",
       "      <td>341.903429</td>\n",
       "      <td>1530</td>\n",
       "    </tr>\n",
       "    <tr>\n",
       "      <th>2012</th>\n",
       "      <td>399.389968</td>\n",
       "      <td>2324</td>\n",
       "    </tr>\n",
       "    <tr>\n",
       "      <th>2013</th>\n",
       "      <td>483.600304</td>\n",
       "      <td>2971</td>\n",
       "    </tr>\n",
       "    <tr>\n",
       "      <th>2014</th>\n",
       "      <td>556.277273</td>\n",
       "      <td>3528</td>\n",
       "    </tr>\n",
       "    <tr>\n",
       "      <th>2015</th>\n",
       "      <td>632.540352</td>\n",
       "      <td>3739</td>\n",
       "    </tr>\n",
       "    <tr>\n",
       "      <th>2016</th>\n",
       "      <td>697.643709</td>\n",
       "      <td>4390</td>\n",
       "    </tr>\n",
       "  </tbody>\n",
       "</table>\n",
       "</div>"
      ],
      "text/plain": [
       "      sale_price_sqr_foot  gross_rent\n",
       "year                                 \n",
       "2010           369.344353        1239\n",
       "2011           341.903429        1530\n",
       "2012           399.389968        2324\n",
       "2013           483.600304        2971\n",
       "2014           556.277273        3528\n",
       "2015           632.540352        3739\n",
       "2016           697.643709        4390"
      ]
     },
     "execution_count": 20,
     "metadata": {},
     "output_type": "execute_result"
    }
   ],
   "source": [
    "# Filter out the housing_units column, creating a new DataFrame \n",
    "# Keep only sale_price_sqr_foot and gross_rent averages per year\n",
    "prices_square_foot_by_year = prices_square_foot_by_year[['sale_price_sqr_foot','gross_rent']]\n",
    "\n",
    "# Review the DataFrame\n",
    "prices_square_foot_by_year"
   ]
  },
  {
   "cell_type": "markdown",
   "metadata": {},
   "source": [
    "### Step 3: Use hvPlot to plot the `prices_square_foot_by_year` DataFrame as a line plot.\n",
    "\n",
    "> **Hint** This single plot will include lines for both `sale_price_sqr_foot` and `gross_rent`\n",
    "\n",
    "### Step 4: Style and format the line plot to ensure a professionally styled visualization.\n"
   ]
  },
  {
   "cell_type": "code",
   "execution_count": 30,
   "metadata": {},
   "outputs": [
    {
     "data": {},
     "metadata": {},
     "output_type": "display_data"
    },
    {
     "data": {
      "application/vnd.holoviews_exec.v0+json": "",
      "text/html": [
       "<div id='2222'>\n",
       "\n",
       "\n",
       "\n",
       "\n",
       "\n",
       "  <div class=\"bk-root\" id=\"a748ce8f-b02c-4b88-b309-b157bff2bdde\" data-root-id=\"2222\"></div>\n",
       "</div>\n",
       "<script type=\"application/javascript\">(function(root) {\n",
       "  function embed_document(root) {\n",
       "    var docs_json = {\"3c75ed92-a894-4db5-8350-3dbfd74418de\":{\"roots\":{\"references\":[{\"attributes\":{\"source\":{\"id\":\"2282\"}},\"id\":\"2289\",\"type\":\"CDSView\"},{\"attributes\":{\"below\":[{\"id\":\"2237\"}],\"center\":[{\"id\":\"2240\"},{\"id\":\"2244\"}],\"left\":[{\"id\":\"2241\"}],\"margin\":[5,5,5,5],\"min_border_bottom\":10,\"min_border_left\":10,\"min_border_right\":10,\"min_border_top\":10,\"plot_height\":300,\"plot_width\":700,\"renderers\":[{\"id\":\"2271\"},{\"id\":\"2288\"}],\"right\":[{\"id\":\"2280\"}],\"sizing_mode\":\"fixed\",\"title\":{\"id\":\"2229\"},\"toolbar\":{\"id\":\"2251\"},\"x_range\":{\"id\":\"2224\"},\"x_scale\":{\"id\":\"2233\"},\"y_range\":{\"id\":\"2225\"},\"y_scale\":{\"id\":\"2235\"}},\"id\":\"2228\",\"subtype\":\"Figure\",\"type\":\"Plot\"},{\"attributes\":{},\"id\":\"2233\",\"type\":\"LinearScale\"},{\"attributes\":{\"axis\":{\"id\":\"2237\"},\"grid_line_color\":null,\"ticker\":null},\"id\":\"2240\",\"type\":\"Grid\"},{\"attributes\":{\"label\":{\"value\":\"sale_price_sqr_foot\"},\"renderers\":[{\"id\":\"2271\"}]},\"id\":\"2281\",\"type\":\"LegendItem\"},{\"attributes\":{},\"id\":\"2297\",\"type\":\"UnionRenderers\"},{\"attributes\":{},\"id\":\"2259\",\"type\":\"BasicTickFormatter\"},{\"attributes\":{\"data_source\":{\"id\":\"2282\"},\"glyph\":{\"id\":\"2285\"},\"hover_glyph\":null,\"muted_glyph\":{\"id\":\"2287\"},\"nonselection_glyph\":{\"id\":\"2286\"},\"selection_glyph\":null,\"view\":{\"id\":\"2289\"}},\"id\":\"2288\",\"type\":\"GlyphRenderer\"},{\"attributes\":{},\"id\":\"2242\",\"type\":\"BasicTicker\"},{\"attributes\":{\"margin\":[5,5,5,5],\"name\":\"HSpacer03909\",\"sizing_mode\":\"stretch_width\"},\"id\":\"2381\",\"type\":\"Spacer\"},{\"attributes\":{\"axis_label\":\"Gross Rent/Sale Price Per Square Ft.\",\"bounds\":\"auto\",\"formatter\":{\"id\":\"2258\"},\"major_label_orientation\":\"horizontal\",\"ticker\":{\"id\":\"2242\"}},\"id\":\"2241\",\"type\":\"LinearAxis\"},{\"attributes\":{\"children\":[{\"id\":\"2223\"},{\"id\":\"2228\"},{\"id\":\"2381\"}],\"margin\":[0,0,0,0],\"name\":\"Row03904\",\"tags\":[\"embedded\"]},\"id\":\"2222\",\"type\":\"Row\"},{\"attributes\":{},\"id\":\"2278\",\"type\":\"UnionRenderers\"},{\"attributes\":{\"margin\":[5,5,5,5],\"name\":\"HSpacer03908\",\"sizing_mode\":\"stretch_width\"},\"id\":\"2223\",\"type\":\"Spacer\"},{\"attributes\":{\"bottom_units\":\"screen\",\"fill_alpha\":0.5,\"fill_color\":\"lightgrey\",\"left_units\":\"screen\",\"level\":\"overlay\",\"line_alpha\":1.0,\"line_color\":\"black\",\"line_dash\":[4,4],\"line_width\":2,\"right_units\":\"screen\",\"top_units\":\"screen\"},\"id\":\"2250\",\"type\":\"BoxAnnotation\"},{\"attributes\":{\"line_alpha\":0.2,\"line_color\":\"#1f77b3\",\"line_width\":2,\"x\":{\"field\":\"year\"},\"y\":{\"field\":\"value\"}},\"id\":\"2270\",\"type\":\"Line\"},{\"attributes\":{},\"id\":\"2266\",\"type\":\"Selection\"},{\"attributes\":{},\"id\":\"2235\",\"type\":\"LinearScale\"},{\"attributes\":{\"line_alpha\":0.1,\"line_color\":\"#1f77b3\",\"line_width\":2,\"x\":{\"field\":\"year\"},\"y\":{\"field\":\"value\"}},\"id\":\"2269\",\"type\":\"Line\"},{\"attributes\":{\"data_source\":{\"id\":\"2265\"},\"glyph\":{\"id\":\"2268\"},\"hover_glyph\":null,\"muted_glyph\":{\"id\":\"2270\"},\"nonselection_glyph\":{\"id\":\"2269\"},\"selection_glyph\":null,\"view\":{\"id\":\"2272\"}},\"id\":\"2271\",\"type\":\"GlyphRenderer\"},{\"attributes\":{},\"id\":\"2245\",\"type\":\"SaveTool\"},{\"attributes\":{\"source\":{\"id\":\"2265\"}},\"id\":\"2272\",\"type\":\"CDSView\"},{\"attributes\":{\"data\":{\"Variable\":[\"sale_price_sqr_foot\",\"sale_price_sqr_foot\",\"sale_price_sqr_foot\",\"sale_price_sqr_foot\",\"sale_price_sqr_foot\",\"sale_price_sqr_foot\",\"sale_price_sqr_foot\"],\"value\":{\"__ndarray__\":\"tQKjeIIVd0Do7CdydF51QGdijk899nhAaBKk2Jo5fkDGKCTbN2KBQPETFqRSxINAUB33UCbNhUA=\",\"dtype\":\"float64\",\"order\":\"little\",\"shape\":[7]},\"year\":[2010,2011,2012,2013,2014,2015,2016]},\"selected\":{\"id\":\"2266\"},\"selection_policy\":{\"id\":\"2278\"}},\"id\":\"2265\",\"type\":\"ColumnDataSource\"},{\"attributes\":{\"format\":\"%.0f\"},\"id\":\"2258\",\"type\":\"PrintfTickFormatter\"},{\"attributes\":{},\"id\":\"2246\",\"type\":\"PanTool\"},{\"attributes\":{\"click_policy\":\"mute\",\"items\":[{\"id\":\"2281\"},{\"id\":\"2299\"}],\"location\":[0,0],\"title\":\"Variable\"},\"id\":\"2280\",\"type\":\"Legend\"},{\"attributes\":{\"callback\":null,\"renderers\":[{\"id\":\"2271\"},{\"id\":\"2288\"}],\"tags\":[\"hv_created\"],\"tooltips\":[[\"Variable\",\"@{Variable}\"],[\"year\",\"@{year}\"],[\"value\",\"@{value}\"]]},\"id\":\"2226\",\"type\":\"HoverTool\"},{\"attributes\":{},\"id\":\"2247\",\"type\":\"WheelZoomTool\"},{\"attributes\":{\"active_drag\":\"auto\",\"active_inspect\":\"auto\",\"active_multi\":null,\"active_scroll\":\"auto\",\"active_tap\":\"auto\",\"tools\":[{\"id\":\"2226\"},{\"id\":\"2245\"},{\"id\":\"2246\"},{\"id\":\"2247\"},{\"id\":\"2248\"},{\"id\":\"2249\"}]},\"id\":\"2251\",\"type\":\"Toolbar\"},{\"attributes\":{\"overlay\":{\"id\":\"2250\"}},\"id\":\"2248\",\"type\":\"BoxZoomTool\"},{\"attributes\":{\"line_alpha\":0.1,\"line_color\":\"#ff7e0e\",\"line_width\":2,\"x\":{\"field\":\"year\"},\"y\":{\"field\":\"value\"}},\"id\":\"2286\",\"type\":\"Line\"},{\"attributes\":{\"end\":2016.0,\"reset_end\":2016.0,\"reset_start\":2010.0,\"start\":2010.0,\"tags\":[[[\"year\",\"year\",null]]]},\"id\":\"2224\",\"type\":\"Range1d\"},{\"attributes\":{\"data\":{\"Variable\":[\"gross_rent\",\"gross_rent\",\"gross_rent\",\"gross_rent\",\"gross_rent\",\"gross_rent\",\"gross_rent\"],\"value\":[1239,1530,2324,2971,3528,3739,4390],\"year\":[2010,2011,2012,2013,2014,2015,2016]},\"selected\":{\"id\":\"2283\"},\"selection_policy\":{\"id\":\"2297\"}},\"id\":\"2282\",\"type\":\"ColumnDataSource\"},{\"attributes\":{},\"id\":\"2283\",\"type\":\"Selection\"},{\"attributes\":{\"line_color\":\"#ff7e0e\",\"line_width\":2,\"x\":{\"field\":\"year\"},\"y\":{\"field\":\"value\"}},\"id\":\"2285\",\"type\":\"Line\"},{\"attributes\":{\"text\":\"Sale Price Per Square Foot and Average Gross Rent: 2010-2016 - San Francisco\",\"text_color\":{\"value\":\"black\"},\"text_font_size\":{\"value\":\"12pt\"}},\"id\":\"2229\",\"type\":\"Title\"},{\"attributes\":{\"end\":4794.80965708199,\"reset_end\":4794.80965708199,\"reset_start\":-62.9062279018836,\"start\":-62.9062279018836,\"tags\":[[[\"value\",\"value\",null]]]},\"id\":\"2225\",\"type\":\"Range1d\"},{\"attributes\":{},\"id\":\"2249\",\"type\":\"ResetTool\"},{\"attributes\":{\"axis_label\":\"Year\",\"bounds\":\"auto\",\"formatter\":{\"id\":\"2259\"},\"major_label_orientation\":\"horizontal\",\"ticker\":{\"id\":\"2238\"}},\"id\":\"2237\",\"type\":\"LinearAxis\"},{\"attributes\":{\"line_alpha\":0.2,\"line_color\":\"#ff7e0e\",\"line_width\":2,\"x\":{\"field\":\"year\"},\"y\":{\"field\":\"value\"}},\"id\":\"2287\",\"type\":\"Line\"},{\"attributes\":{\"line_color\":\"#1f77b3\",\"line_width\":2,\"x\":{\"field\":\"year\"},\"y\":{\"field\":\"value\"}},\"id\":\"2268\",\"type\":\"Line\"},{\"attributes\":{\"label\":{\"value\":\"gross_rent\"},\"renderers\":[{\"id\":\"2288\"}]},\"id\":\"2299\",\"type\":\"LegendItem\"},{\"attributes\":{\"axis\":{\"id\":\"2241\"},\"dimension\":1,\"grid_line_color\":null,\"ticker\":null},\"id\":\"2244\",\"type\":\"Grid\"},{\"attributes\":{},\"id\":\"2238\",\"type\":\"BasicTicker\"}],\"root_ids\":[\"2222\"]},\"title\":\"Bokeh Application\",\"version\":\"2.2.3\"}};\n",
       "    var render_items = [{\"docid\":\"3c75ed92-a894-4db5-8350-3dbfd74418de\",\"root_ids\":[\"2222\"],\"roots\":{\"2222\":\"a748ce8f-b02c-4b88-b309-b157bff2bdde\"}}];\n",
       "    root.Bokeh.embed.embed_items_notebook(docs_json, render_items);\n",
       "  }\n",
       "  if (root.Bokeh !== undefined && root.Bokeh.Panel !== undefined) {\n",
       "    embed_document(root);\n",
       "  } else {\n",
       "    var attempts = 0;\n",
       "    var timer = setInterval(function(root) {\n",
       "      if (root.Bokeh !== undefined && root.Bokeh.Panel !== undefined) {\n",
       "        clearInterval(timer);\n",
       "        embed_document(root);\n",
       "      } else if (document.readyState == \"complete\") {\n",
       "        attempts++;\n",
       "        if (attempts > 100) {\n",
       "          clearInterval(timer);\n",
       "          console.log(\"Bokeh: ERROR: Unable to run BokehJS code because BokehJS library is missing\");\n",
       "        }\n",
       "      }\n",
       "    }, 10, root)\n",
       "  }\n",
       "})(window);</script>"
      ],
      "text/plain": [
       ":NdOverlay   [Variable]\n",
       "   :Curve   [year]   (value)"
      ]
     },
     "execution_count": 30,
     "metadata": {
      "application/vnd.holoviews_exec.v0+json": {
       "id": "2222"
      }
     },
     "output_type": "execute_result"
    }
   ],
   "source": [
    "# Plot prices_square_foot_by_year. \n",
    "# Include labels for the x- and y-axes, and a title.\n",
    "prices_square_foot_by_year.hvplot(\n",
    "    title=\"Sale Price Per Square Foot and Average Gross Rent: 2010-2016 - San Francisco\",\n",
    "    x=\"year\", \n",
    "    y=[\"sale_price_sqr_foot\",\"gross_rent\"], \n",
    "    xlabel=\"Year\", \n",
    "    ylabel=\"Gross Rent/Sale Price Per Square Ft.\",\n",
    "    yformatter='%.0f'\n",
    ")"
   ]
  },
  {
   "cell_type": "markdown",
   "metadata": {},
   "source": [
    "### Step 6: Use both the `prices_square_foot_by_year` DataFrame and interactive plots to answer the following questions:"
   ]
  },
  {
   "cell_type": "markdown",
   "metadata": {},
   "source": [
    "**Question** * Did any year experience a drop in the average sale price per square foot compared to the previous year?\n",
    "\n",
    "**Answer** # There was a dip in average sale price per square foot in 2011 compared to 2010. "
   ]
  },
  {
   "cell_type": "markdown",
   "metadata": {},
   "source": [
    "**Question** * If so, did the gross rent increase or decrease during that year?I\n",
    "\n",
    "**Answer** # Even though there was a dip in average sale price in 2011, the gross rent increased for that same time period. "
   ]
  },
  {
   "cell_type": "markdown",
   "metadata": {},
   "source": [
    "---"
   ]
  },
  {
   "cell_type": "markdown",
   "metadata": {},
   "source": [
    "## Compare the Average Sale Prices by Neighborhood\n",
    "\n",
    "For this part of the assignment, use interactive visualizations and widgets to explore the average sale price per square foot by neighborhood. To do so, complete the following steps:\n",
    "\n",
    "1. Create a new DataFrame that groups the original DataFrame by year and neighborhood. Aggregate the results by the `mean` of the groups.\n",
    "\n",
    "2. Filter out the “housing_units” column to create a DataFrame that includes only the `sale_price_sqr_foot` and `gross_rent` averages per year.\n",
    "\n",
    "3. Create an interactive line plot with hvPlot that visualizes both `sale_price_sqr_foot` and `gross_rent`. Set the x-axis parameter to the year (`x=\"year\"`). Use the `groupby` parameter to create an interactive widget for `neighborhood`.\n",
    "\n",
    "4. Style and format the line plot to ensure a professionally styled visualization.\n",
    "\n",
    "5. Note that your resulting plot should appear similar to the following image:\n",
    "\n",
    "![A screenshot depicts an example of the resulting plot.](Images/pricing-info-by-neighborhood.png)\n",
    "\n",
    "6. Use the interactive visualization to answer the following question:\n",
    "\n",
    "    * For the Anza Vista neighborhood, is the average sale price per square foot for 2016 more or less than the price that’s listed for 2012? \n"
   ]
  },
  {
   "cell_type": "markdown",
   "metadata": {},
   "source": [
    "### Step 1: Create a new DataFrame that groups the original DataFrame by year and neighborhood. Aggregate the results by the `mean` of the groups."
   ]
  },
  {
   "cell_type": "code",
   "execution_count": null,
   "metadata": {},
   "outputs": [],
   "source": [
    "# Group by year and neighborhood and then create a new dataframe of the mean values\n",
    "prices_by_year_by_neighborhood = # YOUR CODE HERE\n",
    "\n",
    "# Review the DataFrame\n",
    "# YOUR CODE HERE\n"
   ]
  },
  {
   "cell_type": "markdown",
   "metadata": {},
   "source": [
    "### Step 2: Filter out the “housing_units” column to create a DataFrame that includes only the `sale_price_sqr_foot` and `gross_rent` averages per year."
   ]
  },
  {
   "cell_type": "code",
   "execution_count": null,
   "metadata": {},
   "outputs": [],
   "source": [
    "# Filter out the housing_units\n",
    "prices_by_year_by_neighborhood = # YOUR CODE HERE\n",
    "\n",
    "# Review the first and last five rows of the DataFrame\n",
    "# YOUR CODE HERE\n",
    "# YOUR CODE HERE\n"
   ]
  },
  {
   "cell_type": "markdown",
   "metadata": {},
   "source": [
    "### Step 3: Create an interactive line plot with hvPlot that visualizes both `sale_price_sqr_foot` and `gross_rent`. Set the x-axis parameter to the year (`x=\"year\"`). Use the `groupby` parameter to create an interactive widget for `neighborhood`.\n",
    "\n",
    "### Step 4: Style and format the line plot to ensure a professionally styled visualization."
   ]
  },
  {
   "cell_type": "code",
   "execution_count": null,
   "metadata": {},
   "outputs": [],
   "source": [
    "# Use hvplot to create an interactive line plot of the average price per square foot\n",
    "# The plot should have a dropdown selector for the neighborhood\n",
    "# YOUR CODE HERE\n"
   ]
  },
  {
   "cell_type": "markdown",
   "metadata": {},
   "source": [
    "### Step 6: Use the interactive visualization to answer the following question:"
   ]
  },
  {
   "cell_type": "markdown",
   "metadata": {},
   "source": [
    "**Question** For the Anza Vista neighborhood, is the average sale price per square foot for 2016 more or less than the price that’s listed for 2012? \n",
    "\n",
    "**Answer** For the Anza Vista neighborhood, the sale price in per square foot in 2012 was 344.49. The averages sale price per square foot in 2016 was 88.40. The average sale price per square foot is lower in 2016 than it was in 2012."
   ]
  },
  {
   "cell_type": "markdown",
   "metadata": {},
   "source": [
    "---"
   ]
  },
  {
   "cell_type": "markdown",
   "metadata": {},
   "source": [
    "## Build an Interactive Neighborhood Map\n",
    "\n",
    "For this part of the assignment, explore the geospatial relationships in the data by using interactive visualizations with Plotly and the Mapbox API. To build your map, use the `sfo_data_df` DataFrame (created during the initial import), which includes the neighborhood location data with the average prices. To do all this, complete the following steps:\n",
    "\n",
    "1. Read the `neighborhood_coordinates.csv` file from the `Resources` folder into the notebook, and create a DataFrame named `neighborhood_locations_df`. Be sure to set the `index_col` of the DataFrame as “Neighborhood”.\n",
    "\n",
    "2. Using the original `sfo_data_df` Dataframe, create a DataFrame named `all_neighborhood_info_df` that groups the data by neighborhood. Aggregate the results by the `mean` of the group.\n",
    "\n",
    "3. Review the two code cells that concatenate the `neighborhood_locations_df` DataFrame with the `all_neighborhood_info_df` DataFrame. Note that the first cell uses the [Pandas concat function](https://pandas.pydata.org/pandas-docs/stable/reference/api/pandas.concat.html) to create a DataFrame named `all_neighborhoods_df`. The second cell cleans the data and sets the “Neighborhood” column. Be sure to run these cells to create the `all_neighborhoods_df` DataFrame, which you’ll need to create the geospatial visualization.\n",
    "\n",
    "4. Using Plotly Express, create a `scatter_mapbox` for the `all_neighborhoods_df` DataFrame. Remember that you need your MapBox API key. Be sure to do the following:\n",
    "\n",
    "    * Set the `size` parameter to “sale_price_sqr_foot”.\n",
    "\n",
    "    * Set the `color` parameter to “gross_rent”.\n",
    "\n",
    "    * Set the `size_max` parameter to “25”.\n",
    "\n",
    "    * Set the `zoom` parameter to “11”.\n",
    "\n",
    "5. Style and format the line plot to ensure a professionally styled visualization.\n",
    "\n",
    "6. Note that your resulting plot should appear similar to the following image:\n",
    "\n",
    "![A screenshot depicts an example of a scatter plot created with the Mapbox API.](Images/mapbox-plot.png)\n",
    "\n",
    "7. Use the interactive map to answer the following question:\n",
    "\n",
    "    * Which neighborhood has the highest gross rent, and which has the highest sale price per square foot?\n",
    "\n"
   ]
  },
  {
   "cell_type": "markdown",
   "metadata": {},
   "source": [
    "### Step 1: Read the `neighborhood_coordinates.csv` file from the `Resources` folder into the notebook, and create a DataFrame named `neighborhood_locations_df`. Be sure to set the `index_col` of the DataFrame as “Neighborhood”."
   ]
  },
  {
   "cell_type": "code",
   "execution_count": null,
   "metadata": {},
   "outputs": [],
   "source": [
    "# Load neighborhoods coordinates data\n",
    "neighborhood_locations_df = # YOUR CODE HERE\n",
    "\n",
    "# Review the DataFrame\n",
    "# YOUR CODE HERE\n"
   ]
  },
  {
   "cell_type": "markdown",
   "metadata": {},
   "source": [
    "### Step 2: Using the original `sfo_data_df` Dataframe, create a DataFrame named `all_neighborhood_info_df` that groups the data by neighborhood. Aggregate the results by the `mean` of the group."
   ]
  },
  {
   "cell_type": "code",
   "execution_count": null,
   "metadata": {},
   "outputs": [],
   "source": [
    "# Calculate the mean values for each neighborhood\n",
    "all_neighborhood_info_df = # YOUR CODE HERE\n",
    "\n",
    "# Review the resulting DataFrame\n",
    "# YOUR CODE HERE\n"
   ]
  },
  {
   "cell_type": "markdown",
   "metadata": {},
   "source": [
    "### Step 3: Review the two code cells that concatenate the `neighborhood_locations_df` DataFrame with the `all_neighborhood_info_df` DataFrame. \n",
    "\n",
    "Note that the first cell uses the [Pandas concat function](https://pandas.pydata.org/pandas-docs/stable/reference/api/pandas.concat.html) to create a DataFrame named `all_neighborhoods_df`. \n",
    "\n",
    "The second cell cleans the data and sets the “Neighborhood” column. \n",
    "\n",
    "Be sure to run these cells to create the `all_neighborhoods_df` DataFrame, which you’ll need to create the geospatial visualization."
   ]
  },
  {
   "cell_type": "code",
   "execution_count": null,
   "metadata": {},
   "outputs": [],
   "source": [
    "# Using the Pandas `concat` function, join the \n",
    "# neighborhood_locations_df and the all_neighborhood_info_df DataFrame\n",
    "# The axis of the concatenation is \"columns\".\n",
    "# The concat function will automatially combine columns with\n",
    "# identical information, while keeping the additional columns.\n",
    "all_neighborhoods_df = pd.concat(\n",
    "    [neighborhood_locations_df, all_neighborhood_info_df], \n",
    "    axis=\"columns\",\n",
    "    sort=False\n",
    ")\n",
    "\n",
    "# Review the resulting DataFrame\n",
    "display(all_neighborhoods_df.head())\n",
    "display(all_neighborhoods_df.tail())\n"
   ]
  },
  {
   "cell_type": "code",
   "execution_count": null,
   "metadata": {},
   "outputs": [],
   "source": [
    "# Call the dropna function to remove any neighborhoods that do not have data\n",
    "all_neighborhoods_df = all_neighborhoods_df.reset_index().dropna()\n",
    "\n",
    "# Rename the \"index\" column as \"Neighborhood\" for use in the Visualization\n",
    "all_neighborhoods_df = all_neighborhoods_df.rename(columns={\"index\": \"Neighborhood\"})\n",
    "\n",
    "# Review the resulting DataFrame\n",
    "display(all_neighborhoods_df.head())\n",
    "display(all_neighborhoods_df.tail())"
   ]
  },
  {
   "cell_type": "markdown",
   "metadata": {},
   "source": [
    "### Step 4: Using Plotly Express, create a `scatter_mapbox` for the `all_neighborhoods_df` DataFrame. Remember that you need your MapBox API key. Be sure to do the following:\n",
    "\n",
    "    * Set the `size` parameter to “sale_price_sqr_foot”.\n",
    "    * Set the `color` parameter to “gross_rent”.\n",
    "    * Set the `size_max` parameter to “25”.\n",
    "    * Set the `zoom` parameter to “11”.\n",
    "\n",
    "### Step 5: Style and format the line plot to ensure a professionally styled visualization.\n"
   ]
  },
  {
   "cell_type": "code",
   "execution_count": null,
   "metadata": {},
   "outputs": [],
   "source": [
    "# Create a scatter mapbox to analyze neighborhood info\n",
    "# YOUR CODE HERE\n"
   ]
  },
  {
   "cell_type": "markdown",
   "metadata": {},
   "source": [
    "### Step 7: Use the interactive map to answer the following question:"
   ]
  },
  {
   "cell_type": "markdown",
   "metadata": {},
   "source": [
    "**Question** Which neighborhood has the highest gross rent, and which has the highest sale price per square foot?\n",
    "\n",
    "**Answer** # YOUR ANSWER HERE"
   ]
  },
  {
   "cell_type": "markdown",
   "metadata": {},
   "source": [
    "## Compose Your Data Story\n",
    "\n",
    "Based on the visualizations that you have created, compose a data story that synthesizes your analysis by answering the following questions:"
   ]
  },
  {
   "cell_type": "markdown",
   "metadata": {},
   "source": [
    "**Question**  How does the trend in rental income growth compare to the trend in sales prices? Does this same trend hold true for all the neighborhoods across San Francisco?\n",
    "\n",
    "**Answer** # YOUR ANSWER HERE\n"
   ]
  },
  {
   "cell_type": "markdown",
   "metadata": {},
   "source": [
    "**Question** What insights can you share with your company about the potential one-click, buy-and-rent strategy that they're pursuing? Do neighborhoods exist that you would suggest for investment, and why?\n",
    "\n",
    "**Answer** # YOUR ANSWER HERE"
   ]
  },
  {
   "cell_type": "code",
   "execution_count": null,
   "metadata": {},
   "outputs": [],
   "source": []
  }
 ],
 "metadata": {
  "file_extension": ".py",
  "kernelspec": {
   "display_name": "Python (dev)",
   "language": "python",
   "name": "dev"
  },
  "language_info": {
   "codemirror_mode": {
    "name": "ipython",
    "version": 3
   },
   "file_extension": ".py",
   "mimetype": "text/x-python",
   "name": "python",
   "nbconvert_exporter": "python",
   "pygments_lexer": "ipython3",
   "version": "3.7.9"
  },
  "mimetype": "text/x-python",
  "name": "python",
  "npconvert_exporter": "python",
  "pygments_lexer": "ipython3",
  "version": 3
 },
 "nbformat": 4,
 "nbformat_minor": 4
}
